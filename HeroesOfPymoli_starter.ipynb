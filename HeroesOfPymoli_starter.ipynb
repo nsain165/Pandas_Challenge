{
 "cells": [
  {
   "cell_type": "markdown",
   "metadata": {},
   "source": [
    "### Note\n",
    "* Instructions have been included for each segment. You do not have to follow them exactly, but they are included to help you think through the steps."
   ]
  },
  {
   "cell_type": "code",
   "execution_count": 5,
   "metadata": {},
   "outputs": [],
   "source": [
    "# Dependencies and Setup\n",
    "import pandas as pd\n",
    "\n",
    "# File to Load (Remember to Change These)\n",
    "file_to_load = \"Resources/purchase_data.csv\"\n",
    "\n",
    "# Read Purchasing File and store into Pandas data frame\n",
    "purchase_data = pd.read_csv(file_to_load)"
   ]
  },
  {
   "cell_type": "markdown",
   "metadata": {},
   "source": [
    "## Player Count"
   ]
  },
  {
   "cell_type": "markdown",
   "metadata": {},
   "source": [
    "* Display the total number of players\n"
   ]
  },
  {
   "cell_type": "code",
   "execution_count": 8,
   "metadata": {},
   "outputs": [
    {
     "data": {
      "text/html": [
       "<div>\n",
       "<style scoped>\n",
       "    .dataframe tbody tr th:only-of-type {\n",
       "        vertical-align: middle;\n",
       "    }\n",
       "\n",
       "    .dataframe tbody tr th {\n",
       "        vertical-align: top;\n",
       "    }\n",
       "\n",
       "    .dataframe thead th {\n",
       "        text-align: right;\n",
       "    }\n",
       "</style>\n",
       "<table border=\"1\" class=\"dataframe\">\n",
       "  <thead>\n",
       "    <tr style=\"text-align: right;\">\n",
       "      <th></th>\n",
       "      <th>total players</th>\n",
       "    </tr>\n",
       "  </thead>\n",
       "  <tbody>\n",
       "    <tr>\n",
       "      <th>0</th>\n",
       "      <td>576</td>\n",
       "    </tr>\n",
       "  </tbody>\n",
       "</table>\n",
       "</div>"
      ],
      "text/plain": [
       "   total players\n",
       "0            576"
      ]
     },
     "execution_count": 8,
     "metadata": {},
     "output_type": "execute_result"
    }
   ],
   "source": [
    "total_players = len(purchase_data[\"SN\"].value_counts())\n",
    "\n",
    "total_count = pd.DataFrame({\"total players\":[total_players]})\n",
    "total_count"
   ]
  },
  {
   "cell_type": "markdown",
   "metadata": {},
   "source": [
    "## Purchasing Analysis (Total)"
   ]
  },
  {
   "cell_type": "markdown",
   "metadata": {},
   "source": [
    "* Run basic calculations to obtain number of unique items, average price, etc.\n",
    "\n",
    "\n",
    "* Create a summary data frame to hold the results\n",
    "\n",
    "\n",
    "* Optional: give the displayed data cleaner formatting\n",
    "\n",
    "\n",
    "* Display the summary data frame\n"
   ]
  },
  {
   "cell_type": "code",
   "execution_count": 9,
   "metadata": {
    "scrolled": true
   },
   "outputs": [
    {
     "data": {
      "text/html": [
       "<style  type=\"text/css\" >\n",
       "</style><table id=\"T_9f13df8a_9644_11ea_a3c4_d8f2ca8d5a7b\" ><thead>    <tr>        <th class=\"blank level0\" ></th>        <th class=\"col_heading level0 col0\" >Number of Unique Items</th>        <th class=\"col_heading level0 col1\" >Average Price</th>        <th class=\"col_heading level0 col2\" >Number of Purchases</th>        <th class=\"col_heading level0 col3\" >Gross Revenue</th>    </tr></thead><tbody>\n",
       "                <tr>\n",
       "                        <th id=\"T_9f13df8a_9644_11ea_a3c4_d8f2ca8d5a7blevel0_row0\" class=\"row_heading level0 row0\" >0</th>\n",
       "                        <td id=\"T_9f13df8a_9644_11ea_a3c4_d8f2ca8d5a7brow0_col0\" class=\"data row0 col0\" >183</td>\n",
       "                        <td id=\"T_9f13df8a_9644_11ea_a3c4_d8f2ca8d5a7brow0_col1\" class=\"data row0 col1\" >$3.05</td>\n",
       "                        <td id=\"T_9f13df8a_9644_11ea_a3c4_d8f2ca8d5a7brow0_col2\" class=\"data row0 col2\" >780</td>\n",
       "                        <td id=\"T_9f13df8a_9644_11ea_a3c4_d8f2ca8d5a7brow0_col3\" class=\"data row0 col3\" >$2,379.77</td>\n",
       "            </tr>\n",
       "    </tbody></table>"
      ],
      "text/plain": [
       "<pandas.io.formats.style.Styler at 0x203be441e10>"
      ]
     },
     "execution_count": 9,
     "metadata": {},
     "output_type": "execute_result"
    }
   ],
   "source": [
    "number_of_unique_items = len((purchase_data[\"Item ID\"]).unique())\n",
    "average_price = (purchase_data[\"Price\"]).mean()\n",
    "number_of_purchases = (purchase_data[\"Purchase ID\"]).count()\n",
    "gross_revenue = (purchase_data[\"Price\"]).sum()\n",
    "\n",
    "#Data frame with new values\n",
    "\n",
    "summary_df = pd.DataFrame({\"Number of Unique Items\":[number_of_unique_items],\n",
    "                           \"Average Price\":[average_price], \n",
    "                           \"Number of Purchases\": [number_of_purchases], \n",
    "                           \"Gross Revenue\": [gross_revenue]})\n",
    "#Format\n",
    "summary_df.style.format({'Average Price':\"${:,.2f}\",\n",
    "                         'Gross Revenue': '${:,.2f}'})"
   ]
  },
  {
   "cell_type": "markdown",
   "metadata": {},
   "source": [
    "## Gender Demographics"
   ]
  },
  {
   "cell_type": "markdown",
   "metadata": {},
   "source": [
    "* Percentage and Count of Male Players\n",
    "\n",
    "\n",
    "* Percentage and Count of Female Players\n",
    "\n",
    "\n",
    "* Percentage and Count of Other / Non-Disclosed\n",
    "\n",
    "\n"
   ]
  },
  {
   "cell_type": "code",
   "execution_count": 11,
   "metadata": {},
   "outputs": [
    {
     "data": {
      "text/html": [
       "<style  type=\"text/css\" >\n",
       "</style><table id=\"T_c154b1ee_9644_11ea_a43c_d8f2ca8d5a7b\" ><thead>    <tr>        <th class=\"blank level0\" ></th>        <th class=\"col_heading level0 col0\" >Percentage of Players</th>        <th class=\"col_heading level0 col1\" >Total Count</th>    </tr></thead><tbody>\n",
       "                <tr>\n",
       "                        <th id=\"T_c154b1ee_9644_11ea_a43c_d8f2ca8d5a7blevel0_row0\" class=\"row_heading level0 row0\" >Male</th>\n",
       "                        <td id=\"T_c154b1ee_9644_11ea_a43c_d8f2ca8d5a7brow0_col0\" class=\"data row0 col0\" >84.03</td>\n",
       "                        <td id=\"T_c154b1ee_9644_11ea_a43c_d8f2ca8d5a7brow0_col1\" class=\"data row0 col1\" >484</td>\n",
       "            </tr>\n",
       "            <tr>\n",
       "                        <th id=\"T_c154b1ee_9644_11ea_a43c_d8f2ca8d5a7blevel0_row1\" class=\"row_heading level0 row1\" >Female</th>\n",
       "                        <td id=\"T_c154b1ee_9644_11ea_a43c_d8f2ca8d5a7brow1_col0\" class=\"data row1 col0\" >14.06</td>\n",
       "                        <td id=\"T_c154b1ee_9644_11ea_a43c_d8f2ca8d5a7brow1_col1\" class=\"data row1 col1\" >81</td>\n",
       "            </tr>\n",
       "            <tr>\n",
       "                        <th id=\"T_c154b1ee_9644_11ea_a43c_d8f2ca8d5a7blevel0_row2\" class=\"row_heading level0 row2\" >Other / Non-Disclosed</th>\n",
       "                        <td id=\"T_c154b1ee_9644_11ea_a43c_d8f2ca8d5a7brow2_col0\" class=\"data row2 col0\" >1.91</td>\n",
       "                        <td id=\"T_c154b1ee_9644_11ea_a43c_d8f2ca8d5a7brow2_col1\" class=\"data row2 col1\" >11</td>\n",
       "            </tr>\n",
       "    </tbody></table>"
      ],
      "text/plain": [
       "<pandas.io.formats.style.Styler at 0x203be2faeb8>"
      ]
     },
     "execution_count": 11,
     "metadata": {},
     "output_type": "execute_result"
    }
   ],
   "source": [
    "\n",
    "#Group by Gender\n",
    "gender_demo = purchase_data.groupby(\"Gender\")\n",
    "\n",
    "#Count Screen name by gender\n",
    "total_count_gender = gender_demo.nunique()[\"SN\"]\n",
    "\n",
    "#Gender Percentage\n",
    "percentage_of_players = total_count_gender / total_players * 100\n",
    "\n",
    "#Gender Data frame\n",
    "gender_demographics = pd.DataFrame({\"Percentage of Players\": percentage_of_players, \"Total Count\": total_count_gender})\n",
    "\n",
    "#Leave the Top left Corner open for alignment\n",
    "gender_demographics.index.name = None\n",
    "\n",
    "#Sort Gender by % Descending\n",
    "gender_demographics.sort_values([\"Total Count\"], ascending = False).style.format({\"Percentage of Players\":\"{:.2f}\"})"
   ]
  },
  {
   "cell_type": "markdown",
   "metadata": {},
   "source": [
    "\n",
    "## Purchasing Analysis (Gender)"
   ]
  },
  {
   "cell_type": "markdown",
   "metadata": {},
   "source": [
    "* Run basic calculations to obtain purchase count, avg. purchase price, avg. purchase total per person etc. by gender\n",
    "\n",
    "\n",
    "\n",
    "\n",
    "* Create a summary data frame to hold the results\n",
    "\n",
    "\n",
    "* Optional: give the displayed data cleaner formatting\n",
    "\n",
    "\n",
    "* Display the summary data frame"
   ]
  },
  {
   "cell_type": "code",
   "execution_count": 14,
   "metadata": {},
   "outputs": [
    {
     "data": {
      "text/html": [
       "<style  type=\"text/css\" >\n",
       "</style><table id=\"T_19ab526e_9645_11ea_9e12_d8f2ca8d5a7b\" ><thead>    <tr>        <th class=\"blank level0\" ></th>        <th class=\"col_heading level0 col0\" >Percentage of Players</th>        <th class=\"col_heading level0 col1\" >Total Count</th>    </tr></thead><tbody>\n",
       "                <tr>\n",
       "                        <th id=\"T_19ab526e_9645_11ea_9e12_d8f2ca8d5a7blevel0_row0\" class=\"row_heading level0 row0\" >Male</th>\n",
       "                        <td id=\"T_19ab526e_9645_11ea_9e12_d8f2ca8d5a7brow0_col0\" class=\"data row0 col0\" >84.03</td>\n",
       "                        <td id=\"T_19ab526e_9645_11ea_9e12_d8f2ca8d5a7brow0_col1\" class=\"data row0 col1\" >484</td>\n",
       "            </tr>\n",
       "            <tr>\n",
       "                        <th id=\"T_19ab526e_9645_11ea_9e12_d8f2ca8d5a7blevel0_row1\" class=\"row_heading level0 row1\" >Female</th>\n",
       "                        <td id=\"T_19ab526e_9645_11ea_9e12_d8f2ca8d5a7brow1_col0\" class=\"data row1 col0\" >14.06</td>\n",
       "                        <td id=\"T_19ab526e_9645_11ea_9e12_d8f2ca8d5a7brow1_col1\" class=\"data row1 col1\" >81</td>\n",
       "            </tr>\n",
       "            <tr>\n",
       "                        <th id=\"T_19ab526e_9645_11ea_9e12_d8f2ca8d5a7blevel0_row2\" class=\"row_heading level0 row2\" >Other / Non-Disclosed</th>\n",
       "                        <td id=\"T_19ab526e_9645_11ea_9e12_d8f2ca8d5a7brow2_col0\" class=\"data row2 col0\" >1.91</td>\n",
       "                        <td id=\"T_19ab526e_9645_11ea_9e12_d8f2ca8d5a7brow2_col1\" class=\"data row2 col1\" >11</td>\n",
       "            </tr>\n",
       "    </tbody></table>"
      ],
      "text/plain": [
       "<pandas.io.formats.style.Styler at 0x203bece6cf8>"
      ]
     },
     "execution_count": 14,
     "metadata": {},
     "output_type": "execute_result"
    }
   ],
   "source": [
    "#Group by Gender\n",
    "gender_demo = purchase_data.groupby(\"Gender\")\n",
    "\n",
    "#Count Screen name by gender\n",
    "total_count_gender = gender_demo.nunique()[\"SN\"]\n",
    "\n",
    "#Gender Percentage\n",
    "percentage_of_players = total_count_gender / total_players * 100\n",
    "\n",
    "#Gender Data frame\n",
    "gender_demographics = pd.DataFrame({\"Percentage of Players\": percentage_of_players, \"Total Count\": total_count_gender})\n",
    "\n",
    "#Leave the Top left Corner open for alignment\n",
    "gender_demographics.index.name = None\n",
    "\n",
    "#Sort Gender by % Descending\n",
    "gender_demographics.sort_values([\"Total Count\"], ascending = False).style.format({\"Percentage of Players\":\"{:.2f}\"})"
   ]
  },
  {
   "cell_type": "markdown",
   "metadata": {},
   "source": [
    "## Age Demographics"
   ]
  },
  {
   "cell_type": "markdown",
   "metadata": {},
   "source": [
    "* Establish bins for ages\n",
    "\n",
    "\n",
    "* Categorize the existing players using the age bins. Hint: use pd.cut()\n",
    "\n",
    "\n",
    "* Calculate the numbers and percentages by age group\n",
    "\n",
    "\n",
    "* Create a summary data frame to hold the results\n",
    "\n",
    "\n",
    "* Optional: round the percentage column to two decimal points\n",
    "\n",
    "\n",
    "* Display Age Demographics Table\n"
   ]
  },
  {
   "cell_type": "code",
   "execution_count": 16,
   "metadata": {},
   "outputs": [
    {
     "data": {
      "text/html": [
       "<style  type=\"text/css\" >\n",
       "</style><table id=\"T_46375c9e_9645_11ea_ba1b_d8f2ca8d5a7b\" ><thead>    <tr>        <th class=\"blank level0\" ></th>        <th class=\"col_heading level0 col0\" >Percentage of Players</th>        <th class=\"col_heading level0 col1\" >Total Count</th>    </tr></thead><tbody>\n",
       "                <tr>\n",
       "                        <th id=\"T_46375c9e_9645_11ea_ba1b_d8f2ca8d5a7blevel0_row0\" class=\"row_heading level0 row0\" ><10</th>\n",
       "                        <td id=\"T_46375c9e_9645_11ea_ba1b_d8f2ca8d5a7brow0_col0\" class=\"data row0 col0\" >2.95</td>\n",
       "                        <td id=\"T_46375c9e_9645_11ea_ba1b_d8f2ca8d5a7brow0_col1\" class=\"data row0 col1\" >17</td>\n",
       "            </tr>\n",
       "            <tr>\n",
       "                        <th id=\"T_46375c9e_9645_11ea_ba1b_d8f2ca8d5a7blevel0_row1\" class=\"row_heading level0 row1\" >10-14</th>\n",
       "                        <td id=\"T_46375c9e_9645_11ea_ba1b_d8f2ca8d5a7brow1_col0\" class=\"data row1 col0\" >3.82</td>\n",
       "                        <td id=\"T_46375c9e_9645_11ea_ba1b_d8f2ca8d5a7brow1_col1\" class=\"data row1 col1\" >22</td>\n",
       "            </tr>\n",
       "            <tr>\n",
       "                        <th id=\"T_46375c9e_9645_11ea_ba1b_d8f2ca8d5a7blevel0_row2\" class=\"row_heading level0 row2\" >15-19</th>\n",
       "                        <td id=\"T_46375c9e_9645_11ea_ba1b_d8f2ca8d5a7brow2_col0\" class=\"data row2 col0\" >18.58</td>\n",
       "                        <td id=\"T_46375c9e_9645_11ea_ba1b_d8f2ca8d5a7brow2_col1\" class=\"data row2 col1\" >107</td>\n",
       "            </tr>\n",
       "            <tr>\n",
       "                        <th id=\"T_46375c9e_9645_11ea_ba1b_d8f2ca8d5a7blevel0_row3\" class=\"row_heading level0 row3\" >20-24</th>\n",
       "                        <td id=\"T_46375c9e_9645_11ea_ba1b_d8f2ca8d5a7brow3_col0\" class=\"data row3 col0\" >44.79</td>\n",
       "                        <td id=\"T_46375c9e_9645_11ea_ba1b_d8f2ca8d5a7brow3_col1\" class=\"data row3 col1\" >258</td>\n",
       "            </tr>\n",
       "            <tr>\n",
       "                        <th id=\"T_46375c9e_9645_11ea_ba1b_d8f2ca8d5a7blevel0_row4\" class=\"row_heading level0 row4\" >25-29</th>\n",
       "                        <td id=\"T_46375c9e_9645_11ea_ba1b_d8f2ca8d5a7brow4_col0\" class=\"data row4 col0\" >13.37</td>\n",
       "                        <td id=\"T_46375c9e_9645_11ea_ba1b_d8f2ca8d5a7brow4_col1\" class=\"data row4 col1\" >77</td>\n",
       "            </tr>\n",
       "            <tr>\n",
       "                        <th id=\"T_46375c9e_9645_11ea_ba1b_d8f2ca8d5a7blevel0_row5\" class=\"row_heading level0 row5\" >30-34</th>\n",
       "                        <td id=\"T_46375c9e_9645_11ea_ba1b_d8f2ca8d5a7brow5_col0\" class=\"data row5 col0\" >9.03</td>\n",
       "                        <td id=\"T_46375c9e_9645_11ea_ba1b_d8f2ca8d5a7brow5_col1\" class=\"data row5 col1\" >52</td>\n",
       "            </tr>\n",
       "            <tr>\n",
       "                        <th id=\"T_46375c9e_9645_11ea_ba1b_d8f2ca8d5a7blevel0_row6\" class=\"row_heading level0 row6\" >35-39</th>\n",
       "                        <td id=\"T_46375c9e_9645_11ea_ba1b_d8f2ca8d5a7brow6_col0\" class=\"data row6 col0\" >5.38</td>\n",
       "                        <td id=\"T_46375c9e_9645_11ea_ba1b_d8f2ca8d5a7brow6_col1\" class=\"data row6 col1\" >31</td>\n",
       "            </tr>\n",
       "            <tr>\n",
       "                        <th id=\"T_46375c9e_9645_11ea_ba1b_d8f2ca8d5a7blevel0_row7\" class=\"row_heading level0 row7\" >40+</th>\n",
       "                        <td id=\"T_46375c9e_9645_11ea_ba1b_d8f2ca8d5a7brow7_col0\" class=\"data row7 col0\" >2.08</td>\n",
       "                        <td id=\"T_46375c9e_9645_11ea_ba1b_d8f2ca8d5a7brow7_col1\" class=\"data row7 col1\" >12</td>\n",
       "            </tr>\n",
       "    </tbody></table>"
      ],
      "text/plain": [
       "<pandas.io.formats.style.Styler at 0x203be4414e0>"
      ]
     },
     "execution_count": 16,
     "metadata": {},
     "output_type": "execute_result"
    }
   ],
   "source": [
    "# Bin for ages\n",
    "age_bins = [0, 9.90, 14.90, 19.90, 24.90, 29.90, 34.90, 39.90, 99999]\n",
    "group_names = [\"<10\", \"10-14\", \"15-19\", \"20-24\", \"25-29\", \"30-34\", \"35-39\", \"40+\"]\n",
    "\n",
    "# Sorted and cut age values into the bins established above\n",
    "purchase_data[\"Age Group\"] = pd.cut(purchase_data[\"Age\"],age_bins, labels=group_names)\n",
    "purchase_data\n",
    "\n",
    "# Create new data frame with the added \"Age Group\" and group it\n",
    "age_grouped = purchase_data.groupby(\"Age Group\")\n",
    "\n",
    "# Count total players by age category\n",
    "total_count_age = age_grouped[\"SN\"].nunique()\n",
    "\n",
    "# Calculate percentages by age category \n",
    "percentage_by_age = (total_count_age/total_players) * 100\n",
    "\n",
    "# Create data frame with obtained values\n",
    "age_demographics = pd.DataFrame({\"Percentage of Players\": percentage_by_age, \"Total Count\": total_count_age})\n",
    "\n",
    "# Format the data frame with no index name in the corner\n",
    "age_demographics.index.name = None\n",
    "\n",
    "# Format percentage with two decimal places \n",
    "age_demographics.style.format({\"Percentage of Players\":\"{:,.2f}\"})"
   ]
  },
  {
   "cell_type": "markdown",
   "metadata": {},
   "source": [
    "## Purchasing Analysis (Age)"
   ]
  },
  {
   "cell_type": "markdown",
   "metadata": {},
   "source": [
    "* Bin the purchase_data data frame by age\n",
    "\n",
    "\n",
    "* Run basic calculations to obtain purchase count, avg. purchase price, avg. purchase total per person etc. in the table below\n",
    "\n",
    "\n",
    "* Create a summary data frame to hold the results\n",
    "\n",
    "\n",
    "* Optional: give the displayed data cleaner formatting\n",
    "\n",
    "\n",
    "* Display the summary data frame"
   ]
  },
  {
   "cell_type": "code",
   "execution_count": 17,
   "metadata": {},
   "outputs": [
    {
     "data": {
      "text/html": [
       "<style  type=\"text/css\" >\n",
       "</style><table id=\"T_54cfa98a_9645_11ea_9aad_d8f2ca8d5a7b\" ><thead>    <tr>        <th class=\"blank level0\" ></th>        <th class=\"col_heading level0 col0\" >Purchase Count</th>        <th class=\"col_heading level0 col1\" >Average Purchase Price</th>        <th class=\"col_heading level0 col2\" >Total Purchase Value</th>        <th class=\"col_heading level0 col3\" >Average Purchase Total per Person</th>    </tr></thead><tbody>\n",
       "                <tr>\n",
       "                        <th id=\"T_54cfa98a_9645_11ea_9aad_d8f2ca8d5a7blevel0_row0\" class=\"row_heading level0 row0\" ><10</th>\n",
       "                        <td id=\"T_54cfa98a_9645_11ea_9aad_d8f2ca8d5a7brow0_col0\" class=\"data row0 col0\" >23</td>\n",
       "                        <td id=\"T_54cfa98a_9645_11ea_9aad_d8f2ca8d5a7brow0_col1\" class=\"data row0 col1\" >$3.35</td>\n",
       "                        <td id=\"T_54cfa98a_9645_11ea_9aad_d8f2ca8d5a7brow0_col2\" class=\"data row0 col2\" >$77.13</td>\n",
       "                        <td id=\"T_54cfa98a_9645_11ea_9aad_d8f2ca8d5a7brow0_col3\" class=\"data row0 col3\" >$4.54</td>\n",
       "            </tr>\n",
       "            <tr>\n",
       "                        <th id=\"T_54cfa98a_9645_11ea_9aad_d8f2ca8d5a7blevel0_row1\" class=\"row_heading level0 row1\" >10-14</th>\n",
       "                        <td id=\"T_54cfa98a_9645_11ea_9aad_d8f2ca8d5a7brow1_col0\" class=\"data row1 col0\" >28</td>\n",
       "                        <td id=\"T_54cfa98a_9645_11ea_9aad_d8f2ca8d5a7brow1_col1\" class=\"data row1 col1\" >$2.96</td>\n",
       "                        <td id=\"T_54cfa98a_9645_11ea_9aad_d8f2ca8d5a7brow1_col2\" class=\"data row1 col2\" >$82.78</td>\n",
       "                        <td id=\"T_54cfa98a_9645_11ea_9aad_d8f2ca8d5a7brow1_col3\" class=\"data row1 col3\" >$3.76</td>\n",
       "            </tr>\n",
       "            <tr>\n",
       "                        <th id=\"T_54cfa98a_9645_11ea_9aad_d8f2ca8d5a7blevel0_row2\" class=\"row_heading level0 row2\" >15-19</th>\n",
       "                        <td id=\"T_54cfa98a_9645_11ea_9aad_d8f2ca8d5a7brow2_col0\" class=\"data row2 col0\" >136</td>\n",
       "                        <td id=\"T_54cfa98a_9645_11ea_9aad_d8f2ca8d5a7brow2_col1\" class=\"data row2 col1\" >$3.04</td>\n",
       "                        <td id=\"T_54cfa98a_9645_11ea_9aad_d8f2ca8d5a7brow2_col2\" class=\"data row2 col2\" >$412.89</td>\n",
       "                        <td id=\"T_54cfa98a_9645_11ea_9aad_d8f2ca8d5a7brow2_col3\" class=\"data row2 col3\" >$3.86</td>\n",
       "            </tr>\n",
       "            <tr>\n",
       "                        <th id=\"T_54cfa98a_9645_11ea_9aad_d8f2ca8d5a7blevel0_row3\" class=\"row_heading level0 row3\" >20-24</th>\n",
       "                        <td id=\"T_54cfa98a_9645_11ea_9aad_d8f2ca8d5a7brow3_col0\" class=\"data row3 col0\" >365</td>\n",
       "                        <td id=\"T_54cfa98a_9645_11ea_9aad_d8f2ca8d5a7brow3_col1\" class=\"data row3 col1\" >$3.05</td>\n",
       "                        <td id=\"T_54cfa98a_9645_11ea_9aad_d8f2ca8d5a7brow3_col2\" class=\"data row3 col2\" >$1,114.06</td>\n",
       "                        <td id=\"T_54cfa98a_9645_11ea_9aad_d8f2ca8d5a7brow3_col3\" class=\"data row3 col3\" >$4.32</td>\n",
       "            </tr>\n",
       "            <tr>\n",
       "                        <th id=\"T_54cfa98a_9645_11ea_9aad_d8f2ca8d5a7blevel0_row4\" class=\"row_heading level0 row4\" >25-29</th>\n",
       "                        <td id=\"T_54cfa98a_9645_11ea_9aad_d8f2ca8d5a7brow4_col0\" class=\"data row4 col0\" >101</td>\n",
       "                        <td id=\"T_54cfa98a_9645_11ea_9aad_d8f2ca8d5a7brow4_col1\" class=\"data row4 col1\" >$2.90</td>\n",
       "                        <td id=\"T_54cfa98a_9645_11ea_9aad_d8f2ca8d5a7brow4_col2\" class=\"data row4 col2\" >$293.00</td>\n",
       "                        <td id=\"T_54cfa98a_9645_11ea_9aad_d8f2ca8d5a7brow4_col3\" class=\"data row4 col3\" >$3.81</td>\n",
       "            </tr>\n",
       "            <tr>\n",
       "                        <th id=\"T_54cfa98a_9645_11ea_9aad_d8f2ca8d5a7blevel0_row5\" class=\"row_heading level0 row5\" >30-34</th>\n",
       "                        <td id=\"T_54cfa98a_9645_11ea_9aad_d8f2ca8d5a7brow5_col0\" class=\"data row5 col0\" >73</td>\n",
       "                        <td id=\"T_54cfa98a_9645_11ea_9aad_d8f2ca8d5a7brow5_col1\" class=\"data row5 col1\" >$2.93</td>\n",
       "                        <td id=\"T_54cfa98a_9645_11ea_9aad_d8f2ca8d5a7brow5_col2\" class=\"data row5 col2\" >$214.00</td>\n",
       "                        <td id=\"T_54cfa98a_9645_11ea_9aad_d8f2ca8d5a7brow5_col3\" class=\"data row5 col3\" >$4.12</td>\n",
       "            </tr>\n",
       "            <tr>\n",
       "                        <th id=\"T_54cfa98a_9645_11ea_9aad_d8f2ca8d5a7blevel0_row6\" class=\"row_heading level0 row6\" >35-39</th>\n",
       "                        <td id=\"T_54cfa98a_9645_11ea_9aad_d8f2ca8d5a7brow6_col0\" class=\"data row6 col0\" >41</td>\n",
       "                        <td id=\"T_54cfa98a_9645_11ea_9aad_d8f2ca8d5a7brow6_col1\" class=\"data row6 col1\" >$3.60</td>\n",
       "                        <td id=\"T_54cfa98a_9645_11ea_9aad_d8f2ca8d5a7brow6_col2\" class=\"data row6 col2\" >$147.67</td>\n",
       "                        <td id=\"T_54cfa98a_9645_11ea_9aad_d8f2ca8d5a7brow6_col3\" class=\"data row6 col3\" >$4.76</td>\n",
       "            </tr>\n",
       "            <tr>\n",
       "                        <th id=\"T_54cfa98a_9645_11ea_9aad_d8f2ca8d5a7blevel0_row7\" class=\"row_heading level0 row7\" >40+</th>\n",
       "                        <td id=\"T_54cfa98a_9645_11ea_9aad_d8f2ca8d5a7brow7_col0\" class=\"data row7 col0\" >13</td>\n",
       "                        <td id=\"T_54cfa98a_9645_11ea_9aad_d8f2ca8d5a7brow7_col1\" class=\"data row7 col1\" >$2.94</td>\n",
       "                        <td id=\"T_54cfa98a_9645_11ea_9aad_d8f2ca8d5a7brow7_col2\" class=\"data row7 col2\" >$38.24</td>\n",
       "                        <td id=\"T_54cfa98a_9645_11ea_9aad_d8f2ca8d5a7brow7_col3\" class=\"data row7 col3\" >$3.19</td>\n",
       "            </tr>\n",
       "    </tbody></table>"
      ],
      "text/plain": [
       "<pandas.io.formats.style.Styler at 0x203becf8c18>"
      ]
     },
     "execution_count": 17,
     "metadata": {},
     "output_type": "execute_result"
    }
   ],
   "source": [
    "# Count purchases by age group\n",
    "purchase_count_age = age_grouped[\"Purchase ID\"].count()\n",
    "\n",
    "# Obtain average purchase price by age group \n",
    "avg_purchase_price_age = age_grouped[\"Price\"].mean()\n",
    "\n",
    "# Calculate total purchase value by age group \n",
    "total_purchase_value = age_grouped[\"Price\"].sum()\n",
    "\n",
    "# Calculate the average purchase per person in the age group \n",
    "avg_purchase_per_person_age = total_purchase_value/total_count_age\n",
    "\n",
    "# Create data frame with obtained values\n",
    "age_demographics = pd.DataFrame({\"Purchase Count\": purchase_count_age,\n",
    "                                 \"Average Purchase Price\": avg_purchase_price_age,\n",
    "                                 \"Total Purchase Value\":total_purchase_value,\n",
    "                                 \"Average Purchase Total per Person\": avg_purchase_per_person_age})\n",
    "\n",
    "# Format the data frame with no index name in the corner\n",
    "age_demographics.index.name = None\n",
    "\n",
    "# Format with currency style\n",
    "age_demographics.style.format({\"Average Purchase Price\":\"${:,.2f}\",\n",
    "                               \"Total Purchase Value\":\"${:,.2f}\",\n",
    "                               \"Average Purchase Total per Person\":\"${:,.2f}\"})"
   ]
  },
  {
   "cell_type": "markdown",
   "metadata": {},
   "source": [
    "## Top Spenders"
   ]
  },
  {
   "cell_type": "markdown",
   "metadata": {},
   "source": [
    "* Run basic calculations to obtain the results in the table below\n",
    "\n",
    "\n",
    "* Create a summary data frame to hold the results\n",
    "\n",
    "\n",
    "* Sort the total purchase value column in descending order\n",
    "\n",
    "\n",
    "* Optional: give the displayed data cleaner formatting\n",
    "\n",
    "\n",
    "* Display a preview of the summary data frame\n",
    "\n"
   ]
  },
  {
   "cell_type": "code",
   "execution_count": 18,
   "metadata": {},
   "outputs": [
    {
     "data": {
      "text/html": [
       "<style  type=\"text/css\" >\n",
       "</style><table id=\"T_76ca2a94_9645_11ea_99f8_d8f2ca8d5a7b\" ><thead>    <tr>        <th class=\"blank level0\" ></th>        <th class=\"col_heading level0 col0\" >Purchase Count</th>        <th class=\"col_heading level0 col1\" >Average Purchase Price</th>        <th class=\"col_heading level0 col2\" >Total Purchase Value</th>    </tr>    <tr>        <th class=\"index_name level0\" >SN</th>        <th class=\"blank\" ></th>        <th class=\"blank\" ></th>        <th class=\"blank\" ></th>    </tr></thead><tbody>\n",
       "                <tr>\n",
       "                        <th id=\"T_76ca2a94_9645_11ea_99f8_d8f2ca8d5a7blevel0_row0\" class=\"row_heading level0 row0\" >Lisosia93</th>\n",
       "                        <td id=\"T_76ca2a94_9645_11ea_99f8_d8f2ca8d5a7brow0_col0\" class=\"data row0 col0\" >5</td>\n",
       "                        <td id=\"T_76ca2a94_9645_11ea_99f8_d8f2ca8d5a7brow0_col1\" class=\"data row0 col1\" >$3.79</td>\n",
       "                        <td id=\"T_76ca2a94_9645_11ea_99f8_d8f2ca8d5a7brow0_col2\" class=\"data row0 col2\" >$18.96</td>\n",
       "            </tr>\n",
       "            <tr>\n",
       "                        <th id=\"T_76ca2a94_9645_11ea_99f8_d8f2ca8d5a7blevel0_row1\" class=\"row_heading level0 row1\" >Idastidru52</th>\n",
       "                        <td id=\"T_76ca2a94_9645_11ea_99f8_d8f2ca8d5a7brow1_col0\" class=\"data row1 col0\" >4</td>\n",
       "                        <td id=\"T_76ca2a94_9645_11ea_99f8_d8f2ca8d5a7brow1_col1\" class=\"data row1 col1\" >$3.86</td>\n",
       "                        <td id=\"T_76ca2a94_9645_11ea_99f8_d8f2ca8d5a7brow1_col2\" class=\"data row1 col2\" >$15.45</td>\n",
       "            </tr>\n",
       "            <tr>\n",
       "                        <th id=\"T_76ca2a94_9645_11ea_99f8_d8f2ca8d5a7blevel0_row2\" class=\"row_heading level0 row2\" >Chamjask73</th>\n",
       "                        <td id=\"T_76ca2a94_9645_11ea_99f8_d8f2ca8d5a7brow2_col0\" class=\"data row2 col0\" >3</td>\n",
       "                        <td id=\"T_76ca2a94_9645_11ea_99f8_d8f2ca8d5a7brow2_col1\" class=\"data row2 col1\" >$4.61</td>\n",
       "                        <td id=\"T_76ca2a94_9645_11ea_99f8_d8f2ca8d5a7brow2_col2\" class=\"data row2 col2\" >$13.83</td>\n",
       "            </tr>\n",
       "            <tr>\n",
       "                        <th id=\"T_76ca2a94_9645_11ea_99f8_d8f2ca8d5a7blevel0_row3\" class=\"row_heading level0 row3\" >Iral74</th>\n",
       "                        <td id=\"T_76ca2a94_9645_11ea_99f8_d8f2ca8d5a7brow3_col0\" class=\"data row3 col0\" >4</td>\n",
       "                        <td id=\"T_76ca2a94_9645_11ea_99f8_d8f2ca8d5a7brow3_col1\" class=\"data row3 col1\" >$3.40</td>\n",
       "                        <td id=\"T_76ca2a94_9645_11ea_99f8_d8f2ca8d5a7brow3_col2\" class=\"data row3 col2\" >$13.62</td>\n",
       "            </tr>\n",
       "            <tr>\n",
       "                        <th id=\"T_76ca2a94_9645_11ea_99f8_d8f2ca8d5a7blevel0_row4\" class=\"row_heading level0 row4\" >Iskadarya95</th>\n",
       "                        <td id=\"T_76ca2a94_9645_11ea_99f8_d8f2ca8d5a7brow4_col0\" class=\"data row4 col0\" >3</td>\n",
       "                        <td id=\"T_76ca2a94_9645_11ea_99f8_d8f2ca8d5a7brow4_col1\" class=\"data row4 col1\" >$4.37</td>\n",
       "                        <td id=\"T_76ca2a94_9645_11ea_99f8_d8f2ca8d5a7brow4_col2\" class=\"data row4 col2\" >$13.10</td>\n",
       "            </tr>\n",
       "    </tbody></table>"
      ],
      "text/plain": [
       "<pandas.io.formats.style.Styler at 0x203becf7940>"
      ]
     },
     "execution_count": 18,
     "metadata": {},
     "output_type": "execute_result"
    }
   ],
   "source": [
    "# Group purchase data by screen names\n",
    "player_stats = purchase_data.groupby(\"SN\")\n",
    "\n",
    "# Count the total purchases by name\n",
    "purchase_count_spender = player_stats[\"Purchase ID\"].count()\n",
    "\n",
    "# Calculate the average purchase by name \n",
    "avg_purchase_price_spender = player_stats[\"Price\"].mean()\n",
    "\n",
    "# Calculate purchase total \n",
    "purchase_total_spender = player_stats[\"Price\"].sum()\n",
    "\n",
    "# Create a data frame with above values\n",
    "top_player = pd.DataFrame({\"Purchase Count\": purchase_count_spender,\n",
    "                             \"Average Purchase Price\": avg_purchase_price_spender,\n",
    "                             \"Total Purchase Value\":purchase_total_spender})\n",
    "\n",
    "# Sort in descending order to obtain top 5 nerd names \n",
    "formatted_spenders = top_player.sort_values([\"Total Purchase Value\"], ascending=False).head()\n",
    "\n",
    "# Format with currency style\n",
    "formatted_spenders.style.format({\"Average Purchase Total\":\"${:,.2f}\",\n",
    "                                 \"Average Purchase Price\":\"${:,.2f}\", \n",
    "                                 \"Total Purchase Value\":\"${:,.2f}\"})\n"
   ]
  },
  {
   "cell_type": "markdown",
   "metadata": {},
   "source": [
    "## Most Popular Items"
   ]
  },
  {
   "cell_type": "markdown",
   "metadata": {},
   "source": [
    "* Retrieve the Item ID, Item Name, and Item Price columns\n",
    "\n",
    "\n",
    "* Group by Item ID and Item Name. Perform calculations to obtain purchase count, item price, and total purchase value\n",
    "\n",
    "\n",
    "* Create a summary data frame to hold the results\n",
    "\n",
    "\n",
    "* Sort the purchase count column in descending order\n",
    "\n",
    "\n",
    "* Optional: give the displayed data cleaner formatting\n",
    "\n",
    "\n",
    "* Display a preview of the summary data frame\n",
    "\n"
   ]
  },
  {
   "cell_type": "code",
   "execution_count": 19,
   "metadata": {},
   "outputs": [
    {
     "data": {
      "text/html": [
       "<style  type=\"text/css\" >\n",
       "</style><table id=\"T_8d5782e2_9645_11ea_a1fc_d8f2ca8d5a7b\" ><thead>    <tr>        <th class=\"blank\" ></th>        <th class=\"blank level0\" ></th>        <th class=\"col_heading level0 col0\" >Widget Count</th>        <th class=\"col_heading level0 col1\" >Widget Price</th>        <th class=\"col_heading level0 col2\" >Total Purchase Value</th>    </tr>    <tr>        <th class=\"index_name level0\" >Item ID</th>        <th class=\"index_name level1\" >Item Name</th>        <th class=\"blank\" ></th>        <th class=\"blank\" ></th>        <th class=\"blank\" ></th>    </tr></thead><tbody>\n",
       "                <tr>\n",
       "                        <th id=\"T_8d5782e2_9645_11ea_a1fc_d8f2ca8d5a7blevel0_row0\" class=\"row_heading level0 row0\" >178</th>\n",
       "                        <th id=\"T_8d5782e2_9645_11ea_a1fc_d8f2ca8d5a7blevel1_row0\" class=\"row_heading level1 row0\" >Oathbreaker, Last Hope of the Breaking Storm</th>\n",
       "                        <td id=\"T_8d5782e2_9645_11ea_a1fc_d8f2ca8d5a7brow0_col0\" class=\"data row0 col0\" >12</td>\n",
       "                        <td id=\"T_8d5782e2_9645_11ea_a1fc_d8f2ca8d5a7brow0_col1\" class=\"data row0 col1\" >4.23</td>\n",
       "                        <td id=\"T_8d5782e2_9645_11ea_a1fc_d8f2ca8d5a7brow0_col2\" class=\"data row0 col2\" >$50.76</td>\n",
       "            </tr>\n",
       "            <tr>\n",
       "                        <th id=\"T_8d5782e2_9645_11ea_a1fc_d8f2ca8d5a7blevel0_row1\" class=\"row_heading level0 row1\" >145</th>\n",
       "                        <th id=\"T_8d5782e2_9645_11ea_a1fc_d8f2ca8d5a7blevel1_row1\" class=\"row_heading level1 row1\" >Fiery Glass Crusader</th>\n",
       "                        <td id=\"T_8d5782e2_9645_11ea_a1fc_d8f2ca8d5a7brow1_col0\" class=\"data row1 col0\" >9</td>\n",
       "                        <td id=\"T_8d5782e2_9645_11ea_a1fc_d8f2ca8d5a7brow1_col1\" class=\"data row1 col1\" >4.58</td>\n",
       "                        <td id=\"T_8d5782e2_9645_11ea_a1fc_d8f2ca8d5a7brow1_col2\" class=\"data row1 col2\" >$41.22</td>\n",
       "            </tr>\n",
       "            <tr>\n",
       "                        <th id=\"T_8d5782e2_9645_11ea_a1fc_d8f2ca8d5a7blevel0_row2\" class=\"row_heading level0 row2\" >108</th>\n",
       "                        <th id=\"T_8d5782e2_9645_11ea_a1fc_d8f2ca8d5a7blevel1_row2\" class=\"row_heading level1 row2\" >Extraction, Quickblade Of Trembling Hands</th>\n",
       "                        <td id=\"T_8d5782e2_9645_11ea_a1fc_d8f2ca8d5a7brow2_col0\" class=\"data row2 col0\" >9</td>\n",
       "                        <td id=\"T_8d5782e2_9645_11ea_a1fc_d8f2ca8d5a7brow2_col1\" class=\"data row2 col1\" >3.53</td>\n",
       "                        <td id=\"T_8d5782e2_9645_11ea_a1fc_d8f2ca8d5a7brow2_col2\" class=\"data row2 col2\" >$31.77</td>\n",
       "            </tr>\n",
       "            <tr>\n",
       "                        <th id=\"T_8d5782e2_9645_11ea_a1fc_d8f2ca8d5a7blevel0_row3\" class=\"row_heading level0 row3\" >82</th>\n",
       "                        <th id=\"T_8d5782e2_9645_11ea_a1fc_d8f2ca8d5a7blevel1_row3\" class=\"row_heading level1 row3\" >Nirvana</th>\n",
       "                        <td id=\"T_8d5782e2_9645_11ea_a1fc_d8f2ca8d5a7brow3_col0\" class=\"data row3 col0\" >9</td>\n",
       "                        <td id=\"T_8d5782e2_9645_11ea_a1fc_d8f2ca8d5a7brow3_col1\" class=\"data row3 col1\" >4.9</td>\n",
       "                        <td id=\"T_8d5782e2_9645_11ea_a1fc_d8f2ca8d5a7brow3_col2\" class=\"data row3 col2\" >$44.10</td>\n",
       "            </tr>\n",
       "            <tr>\n",
       "                        <th id=\"T_8d5782e2_9645_11ea_a1fc_d8f2ca8d5a7blevel0_row4\" class=\"row_heading level0 row4\" >19</th>\n",
       "                        <th id=\"T_8d5782e2_9645_11ea_a1fc_d8f2ca8d5a7blevel1_row4\" class=\"row_heading level1 row4\" >Pursuit, Cudgel of Necromancy</th>\n",
       "                        <td id=\"T_8d5782e2_9645_11ea_a1fc_d8f2ca8d5a7brow4_col0\" class=\"data row4 col0\" >8</td>\n",
       "                        <td id=\"T_8d5782e2_9645_11ea_a1fc_d8f2ca8d5a7brow4_col1\" class=\"data row4 col1\" >1.02</td>\n",
       "                        <td id=\"T_8d5782e2_9645_11ea_a1fc_d8f2ca8d5a7brow4_col2\" class=\"data row4 col2\" >$8.16</td>\n",
       "            </tr>\n",
       "    </tbody></table>"
      ],
      "text/plain": [
       "<pandas.io.formats.style.Styler at 0x203bed231d0>"
      ]
     },
     "execution_count": 19,
     "metadata": {},
     "output_type": "execute_result"
    }
   ],
   "source": [
    "# Create new data frame with widgets related information \n",
    "widgets = purchase_data[[\"Item ID\", \"Item Name\", \"Price\"]]\n",
    "\n",
    "# Group the widget data by widget id and name \n",
    "widget_stats = widgets.groupby([\"Item ID\",\"Item Name\"])\n",
    "\n",
    "# Count the number of times a widget has been purchased \n",
    "purchase_count_item = widget_stats[\"Price\"].count()\n",
    "\n",
    "# Calcualte the purchase value per widget \n",
    "purchase_value = (widget_stats[\"Price\"].sum()) \n",
    "\n",
    "# Find individual widget price\n",
    "widget_price = purchase_value/purchase_count_item\n",
    "\n",
    "# Create data frame with obtained values\n",
    "most_popular_widgets = pd.DataFrame({\"Widget Count\": purchase_count_item, \n",
    "                                   \"Widget Price\": widget_price,\n",
    "                                   \"Total Purchase Value\":purchase_value})\n",
    "\n",
    "# Sort in descending order to obtain top nerd names and provide top 5 item names\n",
    "popular_formatted = most_popular_widgets.sort_values([\"Widget Count\"], ascending=False).head()\n",
    "\n",
    "# Format with currency style\n",
    "popular_formatted.style.format({\"Item Price\":\"${:,.2f}\",\n",
    "                                \"Total Purchase Value\":\"${:,.2f}\"})"
   ]
  },
  {
   "cell_type": "markdown",
   "metadata": {},
   "source": [
    "## Most Profitable Items"
   ]
  },
  {
   "cell_type": "markdown",
   "metadata": {},
   "source": [
    "* Sort the above table by total purchase value in descending order\n",
    "\n",
    "\n",
    "* Optional: give the displayed data cleaner formatting\n",
    "\n",
    "\n",
    "* Display a preview of the data frame\n",
    "\n"
   ]
  },
  {
   "cell_type": "code",
   "execution_count": 10,
   "metadata": {
    "scrolled": true
   },
   "outputs": [
    {
     "data": {
      "text/html": [
       "<div>\n",
       "<style scoped>\n",
       "    .dataframe tbody tr th:only-of-type {\n",
       "        vertical-align: middle;\n",
       "    }\n",
       "\n",
       "    .dataframe tbody tr th {\n",
       "        vertical-align: top;\n",
       "    }\n",
       "\n",
       "    .dataframe thead th {\n",
       "        text-align: right;\n",
       "    }\n",
       "</style>\n",
       "<table border=\"1\" class=\"dataframe\">\n",
       "  <thead>\n",
       "    <tr style=\"text-align: right;\">\n",
       "      <th></th>\n",
       "      <th></th>\n",
       "      <th>Purchase Count</th>\n",
       "      <th>Item Price</th>\n",
       "      <th>Total Purchase Value</th>\n",
       "    </tr>\n",
       "    <tr>\n",
       "      <th>Item ID</th>\n",
       "      <th>Item Name</th>\n",
       "      <th></th>\n",
       "      <th></th>\n",
       "      <th></th>\n",
       "    </tr>\n",
       "  </thead>\n",
       "  <tbody>\n",
       "    <tr>\n",
       "      <th>178</th>\n",
       "      <th>Oathbreaker, Last Hope of the Breaking Storm</th>\n",
       "      <td>12</td>\n",
       "      <td>$4.23</td>\n",
       "      <td>$50.76</td>\n",
       "    </tr>\n",
       "    <tr>\n",
       "      <th>82</th>\n",
       "      <th>Nirvana</th>\n",
       "      <td>9</td>\n",
       "      <td>$4.90</td>\n",
       "      <td>$44.10</td>\n",
       "    </tr>\n",
       "    <tr>\n",
       "      <th>145</th>\n",
       "      <th>Fiery Glass Crusader</th>\n",
       "      <td>9</td>\n",
       "      <td>$4.58</td>\n",
       "      <td>$41.22</td>\n",
       "    </tr>\n",
       "    <tr>\n",
       "      <th>92</th>\n",
       "      <th>Final Critic</th>\n",
       "      <td>8</td>\n",
       "      <td>$4.88</td>\n",
       "      <td>$39.04</td>\n",
       "    </tr>\n",
       "    <tr>\n",
       "      <th>103</th>\n",
       "      <th>Singed Scalpel</th>\n",
       "      <td>8</td>\n",
       "      <td>$4.35</td>\n",
       "      <td>$34.80</td>\n",
       "    </tr>\n",
       "  </tbody>\n",
       "</table>\n",
       "</div>"
      ],
      "text/plain": [
       "                                                     Purchase Count  \\\n",
       "Item ID Item Name                                                     \n",
       "178     Oathbreaker, Last Hope of the Breaking Storm             12   \n",
       "82      Nirvana                                                   9   \n",
       "145     Fiery Glass Crusader                                      9   \n",
       "92      Final Critic                                              8   \n",
       "103     Singed Scalpel                                            8   \n",
       "\n",
       "                                                     Item Price  \\\n",
       "Item ID Item Name                                                 \n",
       "178     Oathbreaker, Last Hope of the Breaking Storm      $4.23   \n",
       "82      Nirvana                                           $4.90   \n",
       "145     Fiery Glass Crusader                              $4.58   \n",
       "92      Final Critic                                      $4.88   \n",
       "103     Singed Scalpel                                    $4.35   \n",
       "\n",
       "                                                     Total Purchase Value  \n",
       "Item ID Item Name                                                          \n",
       "178     Oathbreaker, Last Hope of the Breaking Storm               $50.76  \n",
       "82      Nirvana                                                    $44.10  \n",
       "145     Fiery Glass Crusader                                       $41.22  \n",
       "92      Final Critic                                               $39.04  \n",
       "103     Singed Scalpel                                             $34.80  "
      ]
     },
     "execution_count": 10,
     "metadata": {},
     "output_type": "execute_result"
    }
   ],
   "source": []
  }
 ],
 "metadata": {
  "anaconda-cloud": {},
  "kernel_info": {
   "name": "python3"
  },
  "kernelspec": {
   "display_name": "Python 3",
   "language": "python",
   "name": "python3"
  },
  "language_info": {
   "codemirror_mode": {
    "name": "ipython",
    "version": 3
   },
   "file_extension": ".py",
   "mimetype": "text/x-python",
   "name": "python",
   "nbconvert_exporter": "python",
   "pygments_lexer": "ipython3",
   "version": "3.6.9"
  },
  "latex_envs": {
   "LaTeX_envs_menu_present": true,
   "autoclose": false,
   "autocomplete": true,
   "bibliofile": "biblio.bib",
   "cite_by": "apalike",
   "current_citInitial": 1,
   "eqLabelWithNumbers": true,
   "eqNumInitial": 1,
   "hotkeys": {
    "equation": "Ctrl-E",
    "itemize": "Ctrl-I"
   },
   "labels_anchors": false,
   "latex_user_defs": false,
   "report_style_numbering": false,
   "user_envs_cfg": false
  },
  "nteract": {
   "version": "0.2.0"
  }
 },
 "nbformat": 4,
 "nbformat_minor": 2
}
